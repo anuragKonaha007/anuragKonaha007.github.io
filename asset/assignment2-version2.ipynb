{
 "cells": [
  {
   "cell_type": "markdown",
   "id": "9a3052cb",
   "metadata": {},
   "source": [
    "# Naive Bayes Classifier - Movie Review "
   ]
  },
  {
   "cell_type": "code",
   "execution_count": 26,
   "id": "976f8751",
   "metadata": {},
   "outputs": [
    {
     "data": {
      "text/html": [
       "<div>\n",
       "<style scoped>\n",
       "    .dataframe tbody tr th:only-of-type {\n",
       "        vertical-align: middle;\n",
       "    }\n",
       "\n",
       "    .dataframe tbody tr th {\n",
       "        vertical-align: top;\n",
       "    }\n",
       "\n",
       "    .dataframe thead th {\n",
       "        text-align: right;\n",
       "    }\n",
       "</style>\n",
       "<table border=\"1\" class=\"dataframe\">\n",
       "  <thead>\n",
       "    <tr style=\"text-align: right;\">\n",
       "      <th></th>\n",
       "      <th>Freshness</th>\n",
       "      <th>Review</th>\n",
       "    </tr>\n",
       "  </thead>\n",
       "  <tbody>\n",
       "    <tr>\n",
       "      <th>0</th>\n",
       "      <td>fresh</td>\n",
       "      <td>Manakamana doesn't answer any questions, yet ...</td>\n",
       "    </tr>\n",
       "    <tr>\n",
       "      <th>1</th>\n",
       "      <td>fresh</td>\n",
       "      <td>Wilfully offensive and powered by a chest-thu...</td>\n",
       "    </tr>\n",
       "    <tr>\n",
       "      <th>2</th>\n",
       "      <td>rotten</td>\n",
       "      <td>It would be difficult to imagine material mor...</td>\n",
       "    </tr>\n",
       "    <tr>\n",
       "      <th>3</th>\n",
       "      <td>rotten</td>\n",
       "      <td>Despite the gusto its star brings to the role...</td>\n",
       "    </tr>\n",
       "    <tr>\n",
       "      <th>4</th>\n",
       "      <td>rotten</td>\n",
       "      <td>If there was a good idea at the core of this ...</td>\n",
       "    </tr>\n",
       "  </tbody>\n",
       "</table>\n",
       "</div>"
      ],
      "text/plain": [
       "  Freshness                                             Review\n",
       "0     fresh   Manakamana doesn't answer any questions, yet ...\n",
       "1     fresh   Wilfully offensive and powered by a chest-thu...\n",
       "2    rotten   It would be difficult to imagine material mor...\n",
       "3    rotten   Despite the gusto its star brings to the role...\n",
       "4    rotten   If there was a good idea at the core of this ..."
      ]
     },
     "execution_count": 26,
     "metadata": {},
     "output_type": "execute_result"
    }
   ],
   "source": [
    "import pandas as pd\n",
    "df_reviews=pd.read_csv(\"rt_reviews.csv\",encoding=\"iso-8859-1\")\n",
    "df_reviews=df_reviews.dropna()\n",
    "df_reviews.head(5)"
   ]
  },
  {
   "cell_type": "code",
   "execution_count": 27,
   "id": "df5b1201",
   "metadata": {},
   "outputs": [],
   "source": [
    "df_reviews = df_reviews.sample(frac=1)\n",
    " \n",
    "total_rows = df_reviews.shape[0]\n",
    "train_size = int(total_rows*0.70)\n",
    " \n",
    "# Spliting data into test and train    \n",
    "\n",
    "train = df_reviews[0:train_size]\n",
    "test_set = df_reviews[train_size:]\n",
    "\n",
    "# train into train set and validation set\n",
    "\n",
    "train= train.sample(frac=1)\n",
    "train_size = int(0.8*len(train))\n",
    "\n",
    "train_set = train[:train_size]\n",
    "val_set = train[train_size:]"
   ]
  },
  {
   "cell_type": "code",
   "execution_count": 28,
   "id": "46397c29",
   "metadata": {},
   "outputs": [
    {
     "name": "stdout",
     "output_type": "stream",
     "text": [
      "Train size - (268800, 2)\n",
      "Val size -  (67200, 2)\n",
      "Test size -  (144000, 2)\n"
     ]
    }
   ],
   "source": [
    "print('Train size -',train_set.shape)\n",
    "print('Val size - ',val_set.shape)\n",
    "print('Test size - ',test_set.shape)"
   ]
  },
  {
   "cell_type": "code",
   "execution_count": 29,
   "id": "084cec21",
   "metadata": {},
   "outputs": [
    {
     "name": "stderr",
     "output_type": "stream",
     "text": [
      "C:\\Users\\Anurag\\AppData\\Local\\Temp/ipykernel_28232/1612965753.py:2: FutureWarning: The default value of regex will change from True to False in a future version.\n",
      "  text=text.str.replace('\\W', ' ') # to remove punctuations from string\n",
      "C:\\Users\\Anurag\\AppData\\Local\\Temp/ipykernel_28232/1612965753.py:4: SettingWithCopyWarning: \n",
      "A value is trying to be set on a copy of a slice from a DataFrame.\n",
      "Try using .loc[row_indexer,col_indexer] = value instead\n",
      "\n",
      "See the caveats in the documentation: https://pandas.pydata.org/pandas-docs/stable/user_guide/indexing.html#returning-a-view-versus-a-copy\n",
      "  train_set['Review']=textProcessing(train_set['Review'])\n"
     ]
    },
    {
     "data": {
      "text/html": [
       "<div>\n",
       "<style scoped>\n",
       "    .dataframe tbody tr th:only-of-type {\n",
       "        vertical-align: middle;\n",
       "    }\n",
       "\n",
       "    .dataframe tbody tr th {\n",
       "        vertical-align: top;\n",
       "    }\n",
       "\n",
       "    .dataframe thead th {\n",
       "        text-align: right;\n",
       "    }\n",
       "</style>\n",
       "<table border=\"1\" class=\"dataframe\">\n",
       "  <thead>\n",
       "    <tr style=\"text-align: right;\">\n",
       "      <th></th>\n",
       "      <th>Freshness</th>\n",
       "      <th>Review</th>\n",
       "    </tr>\n",
       "  </thead>\n",
       "  <tbody>\n",
       "    <tr>\n",
       "      <th>109604</th>\n",
       "      <td>fresh</td>\n",
       "      <td>with a story that ups the stakes and brings i...</td>\n",
       "    </tr>\n",
       "    <tr>\n",
       "      <th>272303</th>\n",
       "      <td>rotten</td>\n",
       "      <td>a typical sundance type comedy that confuses ...</td>\n",
       "    </tr>\n",
       "    <tr>\n",
       "      <th>44092</th>\n",
       "      <td>fresh</td>\n",
       "      <td>barbershop 2 achieves what most sequels can o...</td>\n",
       "    </tr>\n",
       "    <tr>\n",
       "      <th>309490</th>\n",
       "      <td>rotten</td>\n",
       "      <td>unfortunately  donner has run out of ammuniti...</td>\n",
       "    </tr>\n",
       "    <tr>\n",
       "      <th>260348</th>\n",
       "      <td>rotten</td>\n",
       "      <td>nair s least persuasive film  in part because...</td>\n",
       "    </tr>\n",
       "  </tbody>\n",
       "</table>\n",
       "</div>"
      ],
      "text/plain": [
       "       Freshness                                             Review\n",
       "109604     fresh   with a story that ups the stakes and brings i...\n",
       "272303    rotten   a typical sundance type comedy that confuses ...\n",
       "44092      fresh   barbershop 2 achieves what most sequels can o...\n",
       "309490    rotten   unfortunately  donner has run out of ammuniti...\n",
       "260348    rotten   nair s least persuasive film  in part because..."
      ]
     },
     "execution_count": 29,
     "metadata": {},
     "output_type": "execute_result"
    }
   ],
   "source": [
    "def textProcessing(text):\n",
    "    text=text.str.replace('\\W', ' ') # to remove punctuations from string\n",
    "    return text.str.lower()  #to convert string into lowercase format\n",
    "train_set['Review']=textProcessing(train_set['Review'])\n",
    "train_set.head()"
   ]
  },
  {
   "cell_type": "code",
   "execution_count": 30,
   "id": "b620c694",
   "metadata": {
    "scrolled": true
   },
   "outputs": [
    {
     "name": "stderr",
     "output_type": "stream",
     "text": [
      "C:\\Users\\Anurag\\AppData\\Local\\Temp/ipykernel_28232/2759631858.py:1: SettingWithCopyWarning: \n",
      "A value is trying to be set on a copy of a slice from a DataFrame.\n",
      "Try using .loc[row_indexer,col_indexer] = value instead\n",
      "\n",
      "See the caveats in the documentation: https://pandas.pydata.org/pandas-docs/stable/user_guide/indexing.html#returning-a-view-versus-a-copy\n",
      "  train_set['Review'] = train_set['Review'].astype(str).str.split()\n"
     ]
    },
    {
     "data": {
      "text/plain": [
       "73136"
      ]
     },
     "execution_count": 30,
     "metadata": {},
     "output_type": "execute_result"
    }
   ],
   "source": [
    "train_set['Review'] = train_set['Review'].astype(str).str.split()\n",
    "\n",
    "vocabulary = []\n",
    "for review in train_set['Review']:\n",
    "   for word in review:\n",
    "    if len(word)>=3:\n",
    "      vocabulary.append(word)\n",
    "\n",
    "vocabulary = list(set(vocabulary))\n",
    "len(vocabulary)"
   ]
  },
  {
   "cell_type": "code",
   "execution_count": null,
   "id": "78fbdc24",
   "metadata": {},
   "outputs": [],
   "source": [
    "from scipy.sparse import lil_matrix\n",
    "\n",
    "# Initializing the sparse matrix of shape num_reviews x num_words\n",
    "word_counts = lil_matrix((len(train_set['Review']), len(vocabulary)), dtype=int)\n",
    "\n",
    "# Updating the word counts for each review from training set\n",
    "for index, review in enumerate(train_set['Review']):\n",
    "    for word in review:\n",
    "     if len(word)>=3:\n",
    "        word_index = vocabulary.index(word)\n",
    "        word_counts[index, word_index] += 1"
   ]
  },
  {
   "cell_type": "code",
   "execution_count": null,
   "id": "e7edaa20",
   "metadata": {},
   "outputs": [],
   "source": [
    "\n",
    "# Converting the sparse matrix to a DataFrame\n",
    "word_counts_df = pd.DataFrame(word_counts.todense(), columns=vocabulary)\n",
    "\n",
    "# Adding the Review and Freshness columns\n",
    "word_counts_df['Review'] = train_set['Review']\n",
    "word_counts_df['Freshness'] = train_set['Freshness']\n",
    "\n",
    "cols = list(word_counts_df.columns)\n",
    "cols.remove('Review')\n",
    "cols.remove('Freshness')\n",
    "word_counts_df = word_counts_df[['Review', 'Freshness'] + cols]\n",
    "word_counts_df.head()"
   ]
  },
  {
   "cell_type": "code",
   "execution_count": null,
   "id": "c63a67cf",
   "metadata": {
    "scrolled": true
   },
   "outputs": [],
   "source": [
    "# Isolating rotten and fresh review \n",
    "rotten_review = word_counts_df[word_counts_df['Freshness'] == 'rotten']\n",
    "fresh_review = word_counts_df[word_counts_df['Freshness'] == 'fresh']\n",
    "\n",
    "# P(rotten) and P(fresh)\n",
    "p_rotten = len(rotten_review) / len(word_counts_df)\n",
    "p_fresh = len(fresh_review) / len(word_counts_df)\n",
    "\n",
    "# N_rotten\n",
    "n_words_per_rotten_review = rotten_review['Review'].apply(len)\n",
    "n_rotten = n_words_per_rotten_review.sum()\n",
    "\n",
    "# N_fresh\n",
    "n_words_per_fresh_review = fresh_review['Review'].apply(len)\n",
    "n_fresh = n_words_per_fresh_review.sum()\n",
    "\n",
    "# N_Vocabulary\n",
    "n_vocabulary = len(vocabulary)\n",
    "\n",
    "# Laplace smoothing\n",
    "alpha = 1"
   ]
  },
  {
   "cell_type": "code",
   "execution_count": null,
   "id": "31bb60f8",
   "metadata": {},
   "outputs": [],
   "source": [
    "# Initiate parameters\n",
    "parameters_rotten = {unique_word:0 for unique_word in vocabulary}\n",
    "parameters_fresh = {unique_word:0 for unique_word in vocabulary}\n",
    "\n",
    "# Calculate parameters\n",
    "for word in vocabulary:\n",
    "   n_word_given_rotten = rotten_review[word].sum() # spam_messages already defined\n",
    "   p_word_given_rotten = (n_word_given_rotten + alpha) / (n_rotten + alpha*n_vocabulary)\n",
    "   parameters_rotten[word] = p_word_given_rotten\n",
    "\n",
    "   n_word_given_fresh = fresh_review[word].sum() # ham_messages already defined\n",
    "   p_word_given_fresh = (n_word_given_fresh + alpha) / (n_fresh + alpha*n_vocabulary)\n",
    "   parameters_fresh[word] = p_word_given_fresh"
   ]
  },
  {
   "cell_type": "code",
   "execution_count": null,
   "id": "959645aa",
   "metadata": {},
   "outputs": [],
   "source": []
  },
  {
   "cell_type": "code",
   "execution_count": null,
   "id": "f1a92bd2",
   "metadata": {},
   "outputs": [],
   "source": [
    "import re\n",
    "\n",
    "def classify_test_set(review):\n",
    "   '''\n",
    "   review: a string\n",
    "   '''\n",
    "\n",
    "   review = re.sub('\\W', ' ', review)\n",
    "   review = review.lower().split()\n",
    "\n",
    "   p_rotten_given_review = p_rotten\n",
    "   p_fresh_given_review = p_fresh\n",
    "\n",
    "   for word in review:\n",
    "      if word in parameters_rotten:\n",
    "         p_rotten_given_review *= parameters_rotten[word]\n",
    "\n",
    "      if word in parameters_fresh: \n",
    "         p_fresh_given_review *= parameters_fresh[word]\n",
    "\n",
    "   print('P(rotten|review):', p_rotten_given_review)\n",
    "   print('P(fresh|review):', p_fresh_given_review)\n",
    "\n",
    "   if p_fresh_given_review > p_rotten_given_review:\n",
    "      return 'fresh'\n",
    "   elif p_fresh_given_review < p_rotten_given_review:\n",
    "      return 'rotten'\n",
    "   else:\n",
    "      return 'Equal proabilities, have a human classify this!'\n"
   ]
  },
  {
   "cell_type": "code",
   "execution_count": null,
   "id": "f8f73dc8",
   "metadata": {},
   "outputs": [],
   "source": [
    "test_set['predicted'] = test_set['Review'].apply(classify_test_set)\n",
    "test_set.head()"
   ]
  },
  {
   "cell_type": "code",
   "execution_count": null,
   "id": "4df5b496",
   "metadata": {},
   "outputs": [],
   "source": [
    "correct = 0\n",
    "total = test_set.shape[0]\n",
    "\n",
    "for row in test_set.iterrows():\n",
    "   row = row[1]\n",
    "   if row['Freshness'] == row['predicted']:\n",
    "      correct += 1\n",
    "\n",
    "print('Correct:', correct)\n",
    "print('Incorrect:', total - correct)\n",
    "print('Accuracy:', correct/total)"
   ]
  },
  {
   "cell_type": "markdown",
   "id": "9b05b677",
   "metadata": {},
   "source": [
    "Reference\n",
    "https://www.geeksforgeeks.org/how-to-split-data-into-training-and-testing-in-python-without-sklearn/\n",
    "https://www.kdnuggets.com/2020/07/spam-filter-python-naive-bayes-scratch.html"
   ]
  }
 ],
 "metadata": {
  "kernelspec": {
   "display_name": "Python 3 (ipykernel)",
   "language": "python",
   "name": "python3"
  },
  "language_info": {
   "codemirror_mode": {
    "name": "ipython",
    "version": 3
   },
   "file_extension": ".py",
   "mimetype": "text/x-python",
   "name": "python",
   "nbconvert_exporter": "python",
   "pygments_lexer": "ipython3",
   "version": "3.9.7"
  }
 },
 "nbformat": 4,
 "nbformat_minor": 5
}
