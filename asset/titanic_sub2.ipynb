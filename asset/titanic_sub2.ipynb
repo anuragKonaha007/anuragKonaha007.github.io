{
 "cells": [
  {
   "cell_type": "code",
   "execution_count": 112,
   "id": "9e7dba3f",
   "metadata": {
    "_cell_guid": "b1076dfc-b9ad-4769-8c92-a6c4dae69d19",
    "_uuid": "8f2839f25d086af736a60e9eeb907d3b93b6e0e5",
    "execution": {
     "iopub.execute_input": "2023-02-19T22:00:14.250281Z",
     "iopub.status.busy": "2023-02-19T22:00:14.249504Z",
     "iopub.status.idle": "2023-02-19T22:00:14.264493Z",
     "shell.execute_reply": "2023-02-19T22:00:14.262723Z"
    },
    "papermill": {
     "duration": 0.022641,
     "end_time": "2023-02-19T22:00:14.267636",
     "exception": false,
     "start_time": "2023-02-19T22:00:14.244995",
     "status": "completed"
    },
    "tags": []
   },
   "outputs": [],
   "source": [
    "# This Python 3 environment comes with many helpful analytics libraries installed\n",
    "# It is defined by the kaggle/python Docker image: https://github.com/kaggle/docker-python\n",
    "# For example, here's several helpful packages to load\n",
    "\n",
    "import numpy as np # linear algebra\n",
    "import pandas as pd # data processing, CSV file I/O (e.g. pd.read_csv)\n",
    "\n",
    "# Input data files are available in the read-only \"../input/\" directory\n",
    "# For example, running this (by clicking run or pressing Shift+Enter) will list all files under the input directory\n",
    "\n",
    "import os\n",
    "for dirname, _, filenames in os.walk('/kaggle/input'):\n",
    "    for filename in filenames:\n",
    "        print(os.path.join(dirname, filename))\n",
    "\n",
    "# You can write up to 20GB to the current directory (/kaggle/working/) that gets preserved as output when you create a version using \"Save & Run All\" \n",
    "# You can also write temporary files to /kaggle/temp/, but they won't be saved outside of the current session"
   ]
  },
  {
   "cell_type": "code",
   "execution_count": 113,
   "id": "431f2a3e",
   "metadata": {
    "execution": {
     "iopub.execute_input": "2023-02-19T22:00:14.275083Z",
     "iopub.status.busy": "2023-02-19T22:00:14.274553Z",
     "iopub.status.idle": "2023-02-19T22:00:14.330396Z",
     "shell.execute_reply": "2023-02-19T22:00:14.329163Z"
    },
    "papermill": {
     "duration": 0.061816,
     "end_time": "2023-02-19T22:00:14.332511",
     "exception": false,
     "start_time": "2023-02-19T22:00:14.270695",
     "status": "completed"
    },
    "tags": []
   },
   "outputs": [
    {
     "data": {
      "text/plain": [
       "PassengerId    False\n",
       "Survived       False\n",
       "Pclass         False\n",
       "Name           False\n",
       "Sex            False\n",
       "Age             True\n",
       "SibSp          False\n",
       "Parch          False\n",
       "Ticket         False\n",
       "Fare           False\n",
       "Cabin           True\n",
       "Embarked        True\n",
       "dtype: bool"
      ]
     },
     "execution_count": 113,
     "metadata": {},
     "output_type": "execute_result"
    }
   ],
   "source": [
    "train_data = pd.read_csv(\"train.csv\")\n",
    "train_data.isnull().any()\n"
   ]
  },
  {
   "cell_type": "code",
   "execution_count": 114,
   "id": "443b5b6f",
   "metadata": {},
   "outputs": [],
   "source": [
    "train_data['Age'].fillna((train_data['Age'].mean()),inplace=True)\n",
    "train_data=train_data.drop(['Embarked','Cabin','Fare','Ticket','Name'],axis=1)"
   ]
  },
  {
   "cell_type": "code",
   "execution_count": 115,
   "id": "62f0b8ab",
   "metadata": {},
   "outputs": [],
   "source": [
    "test_data = pd.read_csv(\"test.csv\")\n",
    "test_data['Age'].fillna((test_data['Age'].mean()),inplace=True)\n",
    "test_data=test_data.drop(['Embarked','Cabin','Fare','Ticket','Name'],axis=1)\n"
   ]
  },
  {
   "cell_type": "code",
   "execution_count": 116,
   "id": "46637199",
   "metadata": {},
   "outputs": [
    {
     "data": {
      "text/plain": [
       "[]"
      ]
     },
     "execution_count": 116,
     "metadata": {},
     "output_type": "execute_result"
    }
   ],
   "source": [
    "#the below code is used for debug purpose\n",
    "#Here I am checking for columns with NA\n",
    "train_data.columns[train_data.isna().any()].tolist()"
   ]
  },
  {
   "cell_type": "code",
   "execution_count": 117,
   "id": "e34adfdd",
   "metadata": {
    "execution": {
     "iopub.execute_input": "2023-02-19T22:00:14.371697Z",
     "iopub.status.busy": "2023-02-19T22:00:14.371322Z",
     "iopub.status.idle": "2023-02-19T22:00:14.389494Z",
     "shell.execute_reply": "2023-02-19T22:00:14.388098Z"
    },
    "papermill": {
     "duration": 0.024586,
     "end_time": "2023-02-19T22:00:14.391728",
     "exception": false,
     "start_time": "2023-02-19T22:00:14.367142",
     "status": "completed"
    },
    "tags": []
   },
   "outputs": [],
   "source": [
    "train_data[\"FamilyGroup\"] = train_data[\"SibSp\"] + train_data[\"Parch\"]\n",
    "test_data[\"FamilyGroup\"] = test_data[\"SibSp\"] + test_data[\"Parch\"]\n",
    "train_data[\"AgeGroup\"] = pd.cut(train_data[\"Age\"], bins=[0, 18, 35, 50, 100], labels=[\"Child\", \"Adult1\", \"Adult2\", \"Elderly\"])\n",
    "test_data[\"AgeGroup\"] = pd.cut(test_data[\"Age\"], bins=[0, 18, 35, 50, 100], labels=[\"Child\", \"Adult1\", \"Adult2\", \"Elderly\"])\n",
    "features = [\"Pclass\", \"Sex\", \"FamilyGroup\", \"AgeGroup\"]"
   ]
  },
  {
   "cell_type": "code",
   "execution_count": 118,
   "id": "b1ef8c56",
   "metadata": {},
   "outputs": [],
   "source": [
    "X = pd.get_dummies(train_data[features])\n",
    "y = train_data[\"Survived\"]\n",
    "X_test = pd.get_dummies(test_data[features])"
   ]
  },
  {
   "cell_type": "code",
   "execution_count": 119,
   "id": "ea5597fd",
   "metadata": {},
   "outputs": [],
   "source": [
    "# Tune Model Hyperparameters\n",
    "from sklearn.model_selection import GridSearchCV\n",
    "from sklearn.ensemble import RandomForestClassifier\n",
    "\n",
    "param_grid = {\n",
    "\"n_estimators\": [50, 100, 150],\n",
    "\"max_depth\": [3, 5, 7],\n",
    "\"min_samples_split\": [2, 5, 10]\n",
    "}\n",
    "rf = RandomForestClassifier(n_estimators=500, max_depth=5,random_state=1)\n",
    "grid_search = GridSearchCV(rf, param_grid=param_grid, cv=5)\n",
    "grid_search.fit(X, y)\n",
    "\n",
    "best_rf = grid_search.best_estimator_"
   ]
  },
  {
   "cell_type": "code",
   "execution_count": 120,
   "id": "a98b3248",
   "metadata": {},
   "outputs": [],
   "source": [
    "X = X.fillna(X.mean())\n",
    "X_test = X_test.fillna(X_test.mean())"
   ]
  },
  {
   "cell_type": "code",
   "execution_count": 125,
   "id": "63e9bf88",
   "metadata": {},
   "outputs": [
    {
     "name": "stdout",
     "output_type": "stream",
     "text": [
      "Cross-validation scores: [0.84916201 0.83146067 0.8258427  0.80337079 0.83707865]\n",
      "Mean cross-validation score: 0.8293829640323898\n"
     ]
    }
   ],
   "source": [
    "# Perform Cross-validation\n",
    "\n",
    "from sklearn.model_selection import cross_val_score\n",
    "cv_scores = cross_val_score(model, X, y, cv=5)\n",
    "print(\"Cross-validation scores:\", cv_scores)\n",
    "print(\"Mean cross-validation score:\", cv_scores.mean())"
   ]
  },
  {
   "cell_type": "code",
   "execution_count": 102,
   "id": "b3de0d53",
   "metadata": {
    "execution": {
     "iopub.execute_input": "2023-02-19T22:00:14.425331Z",
     "iopub.status.busy": "2023-02-19T22:00:14.424851Z",
     "iopub.status.idle": "2023-02-19T22:00:16.071219Z",
     "shell.execute_reply": "2023-02-19T22:00:16.070294Z"
    },
    "papermill": {
     "duration": 1.654618,
     "end_time": "2023-02-19T22:00:16.074222",
     "exception": false,
     "start_time": "2023-02-19T22:00:14.419604",
     "status": "completed"
    },
    "tags": []
   },
   "outputs": [
    {
     "name": "stdout",
     "output_type": "stream",
     "text": [
      "Your submission was successfully saved!\n"
     ]
    }
   ],
   "source": [
    "best_rf.fit(X, y)\n",
    "predictions = best_rf.predict(X_test)\n",
    "predictions = model.predict(X_test)\n",
    "\n",
    "output = pd.DataFrame({'PassengerId': test_data.PassengerId, 'Survived': predictions})\n",
    "output.to_csv('submission2.csv', index=False)\n",
    "print(\"Your submission was successfully saved!\")"
   ]
  },
  {
   "cell_type": "code",
   "execution_count": null,
   "id": "b5728dfb",
   "metadata": {},
   "outputs": [],
   "source": []
  }
 ],
 "metadata": {
  "kernelspec": {
   "display_name": "Python 3 (ipykernel)",
   "language": "python",
   "name": "python3"
  },
  "language_info": {
   "codemirror_mode": {
    "name": "ipython",
    "version": 3
   },
   "file_extension": ".py",
   "mimetype": "text/x-python",
   "name": "python",
   "nbconvert_exporter": "python",
   "pygments_lexer": "ipython3",
   "version": "3.9.7"
  },
  "papermill": {
   "default_parameters": {},
   "duration": 10.963293,
   "end_time": "2023-02-19T22:00:16.904490",
   "environment_variables": {},
   "exception": null,
   "input_path": "__notebook__.ipynb",
   "output_path": "__notebook__.ipynb",
   "parameters": {},
   "start_time": "2023-02-19T22:00:05.941197",
   "version": "2.3.4"
  }
 },
 "nbformat": 4,
 "nbformat_minor": 5
}
